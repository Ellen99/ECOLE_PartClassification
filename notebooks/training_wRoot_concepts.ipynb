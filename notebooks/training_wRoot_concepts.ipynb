{
 "cells": [
  {
   "cell_type": "markdown",
   "metadata": {},
   "source": [
    "# Steps to train part classifiers"
   ]
  },
  {
   "cell_type": "markdown",
   "metadata": {},
   "source": [
    "### Prepare environment for training"
   ]
  },
  {
   "cell_type": "markdown",
   "metadata": {},
   "source": [
    " - Import necessary modules: `sys` and `os`.\n",
    " - Define the project's main directory and append it to `sys.path`"
   ]
  },
  {
   "cell_type": "code",
   "execution_count": 1,
   "metadata": {},
   "outputs": [],
   "source": [
    "import sys\n",
    "import os\n",
    "\n",
    "project_main_dir = os.path.abspath('..')\n",
    "# Add the project's main directory to sys.path\n",
    "if project_main_dir not in sys.path:\n",
    "    sys.path.append(project_main_dir)\n",
    "os.chdir(project_main_dir)"
   ]
  },
  {
   "cell_type": "markdown",
   "metadata": {},
   "source": [
    "##### import necessary classes"
   ]
  },
  {
   "cell_type": "code",
   "execution_count": 2,
   "metadata": {},
   "outputs": [],
   "source": [
    "from src.utils.data_utils import save_concept_hierarchy , load_concept_hierarchy\n",
    "from src.utils.config import TrainingConfig\n",
    "from src.training.data_loader import DataLoader\n",
    "from src.training.trainer import train_classifiers"
   ]
  },
  {
   "cell_type": "markdown",
   "metadata": {},
   "source": [
    "##### Initialize the PartClassifier, ImageLoader, and MaskVisualizer"
   ]
  },
  {
   "cell_type": "code",
   "execution_count": 3,
   "metadata": {},
   "outputs": [
    {
     "name": "stderr",
     "output_type": "stream",
     "text": [
      "Using cache found in /home/elenc2/.cache/torch/hub/facebookresearch_dinov2_main\n",
      "/home/elenc2/.cache/torch/hub/facebookresearch_dinov2_main/dinov2/layers/swiglu_ffn.py:51: UserWarning: xFormers is not available (SwiGLU)\n",
      "  warnings.warn(\"xFormers is not available (SwiGLU)\")\n",
      "/home/elenc2/.cache/torch/hub/facebookresearch_dinov2_main/dinov2/layers/attention.py:33: UserWarning: xFormers is not available (Attention)\n",
      "  warnings.warn(\"xFormers is not available (Attention)\")\n",
      "/home/elenc2/.cache/torch/hub/facebookresearch_dinov2_main/dinov2/layers/block.py:40: UserWarning: xFormers is not available (Block)\n",
      "  warnings.warn(\"xFormers is not available (Block)\")\n"
     ]
    }
   ],
   "source": [
    "# Note: You can also pass custom configuration to InferenceConfig class\n",
    "# Example: config = InferenceConfig(input_dir='test_images/', output_dir='output/', threshold=0.5)\n",
    "config = TrainingConfig()\n",
    "data_loader = DataLoader(config)"
   ]
  },
  {
   "cell_type": "markdown",
   "metadata": {},
   "source": [
    "##### Load images and concept hiararchy"
   ]
  },
  {
   "cell_type": "code",
   "execution_count": null,
   "metadata": {},
   "outputs": [],
   "source": [
    "image_cache, concept_parts = data_loader.get_image_data_from_path()\n",
    "\n",
    "# Save concept hierarchy\n",
    "save_concept_hierarchy(concept_parts, f\"{config.checkpoint_dir}/concept_hierarchy.pkl\")\n",
    "print(f\"Loaded data: for {len(image_cache.keys())} images\")\n",
    "print(f\"Concept parts: for {len(concept_parts.keys())} concepts\")\n",
    "print(f\"Keys are {concept_parts.keys()} concepts\")"
   ]
  },
  {
   "cell_type": "markdown",
   "metadata": {},
   "source": [
    "### Get root concept parts dictionary"
   ]
  },
  {
   "cell_type": "code",
   "execution_count": 6,
   "metadata": {},
   "outputs": [
    {
     "name": "stdout",
     "output_type": "stream",
     "text": [
      "Number of parts: 115 for boats\n",
      "--\n",
      "Number of parts: 146 for office supplies\n",
      "--\n",
      "Number of parts: 150 for kitchen\n",
      "--\n",
      "Number of parts: 64 for helicopter\n",
      "--\n",
      "Number of parts: 110 for tools\n",
      "--\n",
      "Number of parts: 210 for geography\n",
      "--\n",
      "Number of parts: 93 for garden\n",
      "--\n",
      "Number of parts: 90 for vehicles\n",
      "--\n",
      "Number of parts: 54 for weapons\n",
      "--\n",
      "Number of parts: 39 for drones\n",
      "--\n",
      "Number of parts: 22 for ships\n",
      "--\n",
      "Number of parts: 14 for geometry\n",
      "--\n",
      "Number of parts: 15 for airplanes\n",
      "--\n"
     ]
    }
   ],
   "source": [
    "rootConcept_parts = {}\n",
    "for concept, parts in concept_parts.items():\n",
    "    rootConcept = concept.split('--')[0]\n",
    "    if rootConcept not in rootConcept_parts:\n",
    "        rootConcept_parts[rootConcept] = set()\n",
    "    rootConcept_parts[rootConcept] = rootConcept_parts[rootConcept].union(set(parts))\n",
    "\n",
    "for rootConcept, parts in rootConcept_parts.items():\n",
    "    print (f\"Number of parts: {len(parts)} for {rootConcept}\")\n",
    "    # print(f\"{rootConcept}: {parts}\")\n",
    "    print(\"--\")"
   ]
  },
  {
   "cell_type": "markdown",
   "metadata": {},
   "source": [
    "### Train rootConcept classifiers"
   ]
  },
  {
   "cell_type": "code",
   "execution_count": null,
   "metadata": {},
   "outputs": [
    {
     "name": "stdout",
     "output_type": "stream",
     "text": [
      "Concept hierarchy saved to checkpoints_vitl14//l1/root_checkpoints/root_concept_hierarchy.pkl\n",
      "Loaded data: for 6266 images\n",
      "Root Concept parts: for 13 concepts\n",
      "Keys are dict_keys(['boats', 'office supplies', 'kitchen', 'helicopter', 'tools', 'geography', 'garden', 'vehicles', 'weapons', 'drones', 'ships', 'geometry', 'airplanes']) concepts\n",
      "Starting classifier training...\n"
     ]
    },
    {
     "name": "stderr",
     "output_type": "stream",
     "text": [
      "Training part classifiers for concepts: 100%|██████████| 13/13 [1:10:30<00:00, 325.40s/it]"
     ]
    },
    {
     "name": "stdout",
     "output_type": "stream",
     "text": [
      "Training completed : trained classifiers for 13 concepts\n"
     ]
    },
    {
     "name": "stderr",
     "output_type": "stream",
     "text": [
      "\n"
     ]
    }
   ],
   "source": [
    "save_concept_hierarchy(rootConcept_parts, f\"{config.checkpoint_dir}/root_concept_hierarchy.pkl\")\n",
    "print(f\"Loaded data: for {len(image_cache.keys())} images\")\n",
    "print(f\"Root Concept parts: for {len(rootConcept_parts.keys())} concepts\")\n",
    "print(f\"Keys are {rootConcept_parts.keys()} concepts\")\n",
    "\n",
    "print(\"Starting classifier training...\")\n",
    "root_classifiers = train_classifiers(image_cache, rootConcept_parts, config)\n",
    "print(f\"Training completed : trained classifiers for {len(root_classifiers.keys())} concepts\")"
   ]
  },
  {
   "cell_type": "markdown",
   "metadata": {},
   "source": [
    "##### Train classifiers"
   ]
  },
  {
   "cell_type": "code",
   "execution_count": 10,
   "metadata": {},
   "outputs": [
    {
     "name": "stdout",
     "output_type": "stream",
     "text": [
      "Starting classifier training...\n"
     ]
    },
    {
     "name": "stderr",
     "output_type": "stream",
     "text": [
      "Training part classifiers for concepts: 100%|██████████| 572/572 [00:00<00:00, 1635.12it/s]"
     ]
    },
    {
     "name": "stdout",
     "output_type": "stream",
     "text": [
      "Training completed : trained classifiers for 572 concepts\n"
     ]
    },
    {
     "name": "stderr",
     "output_type": "stream",
     "text": [
      "\n"
     ]
    }
   ],
   "source": [
    "print(\"Starting classifier training...\")\n",
    "classifiers = train_classifiers(image_cache, concept_parts, config)\n",
    "print(f\"Training completed : trained classifiers for {len(classifiers.keys())} concepts\")"
   ]
  }
 ],
 "metadata": {
  "kernelspec": {
   "display_name": "db",
   "language": "python",
   "name": "python3"
  },
  "language_info": {
   "codemirror_mode": {
    "name": "ipython",
    "version": 3
   },
   "file_extension": ".py",
   "mimetype": "text/x-python",
   "name": "python",
   "nbconvert_exporter": "python",
   "pygments_lexer": "ipython3",
   "version": "3.12.2"
  }
 },
 "nbformat": 4,
 "nbformat_minor": 4
}
